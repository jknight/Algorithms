{
 "cells": [
  {
   "cell_type": "markdown",
   "metadata": {},
   "source": [
    "# Algorithmic Design and Techniques"
   ]
  },
  {
   "cell_type": "markdown",
   "metadata": {},
   "source": [
    "UCSanDiego MicroMasters Program  \n",
    "Jeffrey Knight  \n",
    "Personal Notes  "
   ]
  },
  {
   "cell_type": "markdown",
   "metadata": {},
   "source": [
    "## Algorithm Basics"
   ]
  },
  {
   "cell_type": "markdown",
   "metadata": {},
   "source": [
    "> When trying to characterize an algorithm’s efficiency in terms of execution time, independent of any particular program or computer, it is important to quantify the number of operations or steps that the algorithm will require.\n",
    "\n",
    "https://runestone.academy/runestone/books/published/pythonds/AlgorithmAnalysis/BigONotation.html"
   ]
  },
  {
   "cell_type": "markdown",
   "metadata": {},
   "source": [
    "### Warmup: Maximum Pairwise Product"
   ]
  },
  {
   "cell_type": "markdown",
   "metadata": {},
   "source": [
    "We start with a basic algorithm for demonstration purposes: *Maximum Pairwise Product*. This routine takes in a series of non negative integers and returns the product of the largest two numbers. \n",
    "The worst algorithm we can implement is a two pass calculation that multiples every number by every number:"
   ]
  },
  {
   "cell_type": "code",
   "execution_count": 28,
   "metadata": {},
   "outputs": [
    {
     "name": "stdout",
     "output_type": "stream",
     "text": [
      "1 / 3\n",
      "1 / 5\n",
      "1 / 9\n",
      "3 / 1\n",
      "3 / 5\n",
      "3 / 9\n",
      "5 / 1\n",
      "5 / 3\n",
      "5 / 9\n",
      "9 / 1\n",
      "9 / 3\n",
      "9 / 5\n",
      "Number of iterations: 16\n"
     ]
    },
    {
     "data": {
      "text/plain": [
       "45"
      ]
     },
     "execution_count": 28,
     "metadata": {},
     "output_type": "execute_result"
    }
   ],
   "source": [
    "# Worst possible implementation\n",
    "def worst_maximum_pairwise_product(series):\n",
    "    n = len(series) \n",
    "    iterationCount = 0\n",
    "    product = 0\n",
    "    for i in range(n):             # loop 1 (outer loop)\n",
    "       for j in range(n):          # loop 2 (inner loop)   \n",
    "            iterationCount += 1\n",
    "            a = series[i]\n",
    "            b = series[j]\n",
    "            if(i != j):\n",
    "                print(f\"{a} / {b}\")\n",
    "                product = max(product, a * b)\n",
    "\n",
    "    print(f\"Number of iterations: {iterationCount}\")\n",
    "    return product\n",
    "\n",
    "worst_maximum_pairwise_product( [1, 3, 5, 9] )"
   ]
  },
  {
   "cell_type": "markdown",
   "metadata": {},
   "source": [
    "How efficient is this implementation? It's terrible! For each outer loop iteration, we loop perform (n-1) inner loops (minus one because we are skipping multiplying it by itself). For the sake of simplicity, we can consider this n * n or n^2. In our example, with 4 inputs we iterate 12 times. In BigO notation we describe this as f(n) = n^2, or O(n^2) which is a **quadratic runtime**. This implementation is highly inefficient. \n",
    "\n",
    "Out first step toward improving this implemenation is to recognize that we unnecessarily check each product twice, multiplying both a * b and b * a. Because multiplication is communicative, we can skip this step and cut the amount of processing in half."
   ]
  },
  {
   "cell_type": "code",
   "execution_count": 33,
   "metadata": {},
   "outputs": [
    {
     "name": "stdout",
     "output_type": "stream",
     "text": [
      "1 / 3\n",
      "1 / 5\n",
      "1 / 9\n",
      "3 / 5\n",
      "3 / 9\n",
      "5 / 9\n",
      "Number of iterations: 6\n"
     ]
    },
    {
     "data": {
      "text/plain": [
       "45"
      ]
     },
     "execution_count": 33,
     "metadata": {},
     "output_type": "execute_result"
    }
   ],
   "source": [
    "# Less bad implementation\n",
    "def worst_maximum_pairwise_product(series):\n",
    "    n = len(series) \n",
    "    iterationCount = 0\n",
    "    product = 0\n",
    "    for i in range(n):             # loop 1 (outer loop)\n",
    "       for j in range(i + 1, n):   # loop 2 (inner loop)\n",
    "            iterationCount += 1\n",
    "            a = series[i]\n",
    "            b = series[j]\n",
    "            if(i != j):\n",
    "                print(f\"{a} / {b}\")\n",
    "                product = max(product, a * b)\n",
    "\n",
    "    print(f\"Number of iterations: {iterationCount}\")\n",
    "    return product\n",
    "\n",
    "worst_maximum_pairwise_product( [1, 3, 5, 9] )"
   ]
  },
  {
   "cell_type": "markdown",
   "metadata": {},
   "source": [
    "This version has the same outer loop, but starts each inner loop from one more than the outer loop's position. This cuts the number of iterations in half for a maximum iteration count of n * (n/2) but it still suffers from a loop-within-a-loop. When we calculate the BigO for this routine, we keep the main term n from n/2, giving us n * n or n^2. Even though we cut the processing of the inner loop in half, from a worst case analysis perspective, we still have a **quadratic runtime** of O(n^2)."
   ]
  },
  {
   "cell_type": "markdown",
   "metadata": {},
   "source": [
    "### Linear Runtime Pairwise Product"
   ]
  },
  {
   "cell_type": "markdown",
   "metadata": {},
   "source": [
    "What is this function really trying to accomplish? It multiplies the *two largest* numbers together. Therefore, we're mainly interested in:\n",
    "\n",
    "1. Finding the two largest numbers\n",
    "2. Multiplying them together\n",
    "\n",
    "We can accomplish this in one pass through the input where we track largest numbers, save them, and do a one time multiplication at the end. Here's my implementation:"
   ]
  },
  {
   "cell_type": "code",
   "execution_count": 31,
   "metadata": {},
   "outputs": [
    {
     "name": "stdout",
     "output_type": "stream",
     "text": [
      "Number of iterations: 4\n"
     ]
    },
    {
     "data": {
      "text/plain": [
       "45"
      ]
     },
     "execution_count": 31,
     "metadata": {},
     "output_type": "execute_result"
    }
   ],
   "source": [
    "# One pass implementation\n",
    "def one_pass_maximum_pairwise_product(series):\n",
    "    max1 = 0\n",
    "    max2 = 0\n",
    "    iterationCount = 0\n",
    "    \n",
    "    for j in series: \n",
    "        iterationCount += 1\n",
    "        if j >= max1:\n",
    "            if(max2 != max1):\n",
    "                max2 = max1\n",
    "                max1 = j\n",
    "            elif j >= max2: \n",
    "                max2 = j\n",
    "\n",
    "    print(f\"Number of iterations: {iterationCount}\")\n",
    "    return(max1 * max2)\n",
    "\n",
    "one_pass_maximum_pairwise_product( [1, 3, 5, 9] )"
   ]
  },
  {
   "cell_type": "markdown",
   "metadata": {},
   "source": [
    "This one pass implementation drops out iteration count to the size of the input set itself, or n. In BigO notation, this is f(x) = n, or O(n) yielding a **linear runtime**"
   ]
  }
 ],
 "metadata": {
  "kernelspec": {
   "display_name": "Python 3",
   "language": "python",
   "name": "python3"
  },
  "language_info": {
   "codemirror_mode": {
    "name": "ipython",
    "version": 3
   },
   "file_extension": ".py",
   "mimetype": "text/x-python",
   "name": "python",
   "nbconvert_exporter": "python",
   "pygments_lexer": "ipython3",
   "version": "3.8.2"
  }
 },
 "nbformat": 4,
 "nbformat_minor": 2
}
