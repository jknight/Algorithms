{
 "cells": [
  {
   "cell_type": "markdown",
   "metadata": {},
   "source": [
    "# Big O Notation / Asymptotic Analysis\n",
    "\n",
    "Big O notation is a tool used to analyze the complexity of an algorithm. \n",
    "\n",
    "## Purpose\n",
    "\n",
    "Understand your algorithm's performance given its initial input.\n",
    "\n",
    "## Links & Resources\n",
    "\n",
    "- [A Gentle Introduction to Algorithm Complexity Analysis](http://discrete.gr/complexity/)\n",
    "\n",
    "## Why?\n",
    "\n",
    "Not all algorithms are created equal. For example, imagine two versions of the same function that produce the same result but have different implementations. Which is better? Can we simply benchmark them side by side and see which has a better runtime? This may give some indication, but benchmarks alone may not provide an accurate picture of their differences - one routine may out-perform the other for a small input set but begin to degrade in performance with larger inputs. Big-O notation provides an objective method for determining which routine is more *efficient*.\n",
    "\n",
    "## Runtimes\n",
    "\n",
    "`log n < sqrt(n) < n < n log n < n^2 < 2^n`\n",
    "\n",
    "## Notes from Class with Adrian\n",
    "\n",
    "n log n\n",
    "\n",
    "# Big O\n",
    "\n",
    "Understand your algo performance given its initial input.\n",
    "\n",
    "## Merge Sort\n",
    "\n",
    "n log n\n",
    "\n",
    "- O(1)\n",
    "  - known fixed run time / # of steps\n",
    "- O(log n): \n",
    "  - runtime increases logorithmically based on input size\n",
    "  - Example: binary search (halvnig / quartering / skipping sections each time)\n",
    "  - Don't need to look at everything every time\n",
    "  - You can throw away\n",
    "  - looking up people in a phone book is O(log n)\n",
    "- O(n): linear - ideally (or better)\n",
    "- O(n log n)\n",
    "  - Decent sorts \n",
    "  - Can't make assumptions about input\n",
    "  - Mergesort, Quicksort\n",
    "  - Not as good as linear, but you want n log n or better\n",
    "- O(n^2)\n",
    "  - Bad\n",
    "  - Bubble sort\n",
    "- O(2^n)\n",
    "  - Truly horrible\n",
    "  - Example: Nested for loop\n",
    "\n",
    "    \n",
    "\n",
    "\"A logarithmic function grows slower than a polynomial function.\"\n",
    "NOTE: assume it's a *natural log* not a base 10\n",
    "\n",
    "\n",
    "\n"
   ]
  },
  {
   "cell_type": "code",
   "execution_count": null,
   "metadata": {},
   "outputs": [],
   "source": []
  }
 ],
 "metadata": {
  "kernelspec": {
   "display_name": "Python 3",
   "language": "python",
   "name": "python3"
  },
  "language_info": {
   "codemirror_mode": {
    "name": "ipython",
    "version": 3
   },
   "file_extension": ".py",
   "mimetype": "text/x-python",
   "name": "python",
   "nbconvert_exporter": "python",
   "pygments_lexer": "ipython3",
   "version": "3.8.2"
  }
 },
 "nbformat": 4,
 "nbformat_minor": 4
}
