{
 "cells": [
  {
   "cell_type": "markdown",
   "metadata": {},
   "source": [
    "# Divide and Conquer Algorithms"
   ]
  },
  {
   "cell_type": "markdown",
   "metadata": {},
   "source": [
    "- Subproblems must be of the same type as the main problem so they can be broken into smaller problems\n",
    "- Problems are broken into **non-overlapping** sub-problems --> results are combined at the end\n",
    "- Naturally lends itself to recursive solutions (can also be iterative)\n",
    "- Break up input into parts, work our way down, then combine results back up\n"
   ]
  },
  {
   "cell_type": "markdown",
   "metadata": {},
   "source": [
    "## Binary Search\n",
    "\n",
    "My implementation of a binary search algorithm using divide-and-conquer."
   ]
  },
  {
   "cell_type": "code",
   "execution_count": 122,
   "metadata": {},
   "outputs": [
    {
     "name": "stdout",
     "output_type": "stream",
     "text": [
      "Value 6 found at array 0-based index: 2\n"
     ]
    }
   ],
   "source": [
    "\"\"\"\n",
    "Author: Jeffrey Knight <jeffrey.knight@gmail.com>\n",
    "Purpose: Demonstrate Binary Search Algorithm\n",
    "BigO: O(log n)\n",
    "Key takeaway: Keep cutting the search space in half\n",
    "TODO: What about duplicate elements in the array ?!\n",
    "\"\"\"\n",
    "\n",
    "# Input: needle (searching for), haystack (sorted array)\n",
    "# Output: index of item location or -1 if not present\n",
    "def search(needle, haystack, min = -1, max = -1):   # Assumes: arr is a sorted array\n",
    "    \n",
    "    min = 0 if min == -1 else min                   # if we're on the first call, set min/max to 0 / length\n",
    "    max = len(haystack) if max == -1 else max\n",
    "\n",
    "    middle = (max + min) // 2                       # note the // operator !\n",
    "    guess = haystack[middle]\n",
    "\n",
    "    # If it's a match return otherwise recurse with (sub)array\n",
    "    if(needle == guess): \n",
    "        return middle\n",
    "    if(needle < haystack[min] or needle > haystack[max - 1]): \n",
    "        return -1\n",
    "    elif(needle < guess): \n",
    "        return search(needle, haystack, min, middle)\n",
    "    elif(needle > guess): \n",
    "        return search(needle, haystack, middle, max)\n",
    "\n",
    "haystack = [2,4,6,8,10,12]\n",
    "needle = 6\n",
    "index = search(needle, haystack)\n",
    "print(f\"Value {needle} found at array 0-based index: {index}\")\n",
    "\n"
   ]
  },
  {
   "cell_type": "markdown",
   "metadata": {},
   "source": [
    "## Majority Element  \n",
    "\n",
    "Given a sequence of elements 𝑎1, 𝑎2, . . . , 𝑎𝑛, you would like to check whether it contains an element that appears more than 𝑛/2 times. \n"
   ]
  },
  {
   "cell_type": "code",
   "execution_count": 13,
   "metadata": {},
   "outputs": [],
   "source": [
    "# Uses python3\n",
    "import sys\n",
    "import math\n",
    "\"\"\"\n",
    "Author: Jeffrey Knight <jeffrey.knight@gmail.com>\n",
    "Purpose: Determine if a list contains a majority of an element (occurs more than half)\n",
    "Example: [1,2,1] has a majority of one / [1,2,3] has no majority element \n",
    "BigO: O(n)  !? <--\n",
    "Notes: This is supposed to be a divide an conquor recursive but I did it in one pass.\n",
    "       My idea is that you track it in an dictionary with counts and as soon as you hit a majority, you bail.\n",
    "       Since we're tracking counts in the dictionary already, we don't need a second pass to evaluate.\n",
    "\"\"\"\n",
    "def get_majority_element(a): \n",
    "    d = {}\n",
    "    majority = len(a)/2\n",
    "    for i in a: \n",
    "        x = d[i] + 1 if i in d else 1\n",
    "        if x > majority: return i\n",
    "        d[i] = x\n",
    "  \n",
    "    return -1\n",
    "\n",
    "def test(a):\n",
    "    if get_majority_element(a) != -1:\n",
    "        return 1\n",
    "    else:\n",
    "        return 0\n",
    "\n",
    "t1 = [2, 3, 9, 2, 2 ]\n",
    "assert (test(t1) == 1) # majority of 2\n",
    "\n",
    "t2 = [1, 2, 3, 4]\n",
    "assert( test(t2) == 0) # no majority\n",
    "\n",
    "t3 = [512766168, 717383758, 5, 126144732, 5, 573799007, 5, 5, 5, 405079772]\n",
    "assert (test(t3) == 0) # no majority\n",
    "\n",
    "t4 = [1]\n",
    "assert( test(t4) == 1) # majority of 1\n",
    "\n",
    "t5 = [1,2]\n",
    "assert( test(t5) == 0) # no majority\n"
   ]
  },
  {
   "cell_type": "markdown",
   "metadata": {},
   "source": [
    "Same implementation in C++:\n",
    "```cpp\n",
    "#include <algorithm>\n",
    "#include <iostream>\n",
    "#include <vector>\n",
    "#include <map>\n",
    "using std::vector;\n",
    "/*\n",
    "Author: Jeffrey Knight\n",
    "Purpose: O(n) majority C++ implementation\n",
    "*/\n",
    "int get_majority_element(vector<int> &a) {\n",
    "    std::map<int, int> b;\n",
    "    int majority = a.size() / 2;\n",
    "    for (size_t i = 0; i < a.size(); ++i) {\n",
    "        int x = a[i];\n",
    "        int y = b[x] + 1;\n",
    "        if(y > majority) return 1;\n",
    "        b[x] = y;\n",
    "    } \n",
    "  return -1;\n",
    "}\n",
    "\n",
    "int main() {\n",
    "  int n;\n",
    "  std::cin >> n;\n",
    "  vector<int> a(n);\n",
    "  for (size_t i = 0; i < a.size(); ++i) {\n",
    "    std::cin >> a[i];\n",
    "  }\n",
    "  std::cout << (get_majority_element(a) != -1) << '\\n';\n",
    "}\n",
    "```"
   ]
  },
  {
   "cell_type": "markdown",
   "metadata": {},
   "source": [
    "## Merge Sort\n",
    "\n",
    "1. Divide the input into two halves\n",
    "2. Call itself for each half\n",
    "3. Merge the results\n"
   ]
  },
  {
   "cell_type": "markdown",
   "metadata": {},
   "source": [
    "## Quick Sort"
   ]
  },
  {
   "cell_type": "markdown",
   "metadata": {},
   "source": [
    "1 Binary Search (DONE) \n",
    "2 Majority Element  \n",
    "3 Improving Quick Sort  \n",
    "4 Number of Inversions  \n",
    "5 Organizing a Lottery  \n",
    "6 Finding the Closest Pair of Points  "
   ]
  },
  {
   "cell_type": "code",
   "execution_count": null,
   "metadata": {},
   "outputs": [],
   "source": []
  }
 ],
 "metadata": {
  "kernelspec": {
   "display_name": "Python 3",
   "language": "python",
   "name": "python3"
  },
  "language_info": {
   "codemirror_mode": {
    "name": "ipython",
    "version": 3
   },
   "file_extension": ".py",
   "mimetype": "text/x-python",
   "name": "python",
   "nbconvert_exporter": "python",
   "pygments_lexer": "ipython3",
   "version": "3.8.2"
  }
 },
 "nbformat": 4,
 "nbformat_minor": 4
}
