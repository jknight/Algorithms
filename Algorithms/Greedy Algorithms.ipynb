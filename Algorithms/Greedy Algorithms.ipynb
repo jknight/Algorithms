{
 "cells": [
  {
   "cell_type": "markdown",
   "metadata": {},
   "source": [
    "# Greedy Algorithms\n",
    "\n",
    "Wikipedia: \"A greedy algorithm is any algorithm that follows the problem-solving heuristic of making the locally optimal choice at each stage with the intent of finding a global optimum\""
   ]
  },
  {
   "cell_type": "markdown",
   "metadata": {},
   "source": [
    "## Basic Segment / Coverage problem\n",
    "\n",
    "**Problem statement**: Given a series of randomly spaced points on a lines and segments of length `S`, find the minimum segments required to cover the points.  \n",
    "**My Solution**:  \n",
    "- We assume the input is already sorted.\n",
    "- We start with the a point on the number line (ie 2).\n",
    "- We find the length of the segment from that starting point. For example, with a start of 2 and segment length 3, we have a segment 2->5. \n",
    "- Next, we want to move forward in our input set until we get beyond this segment:\n",
    " - Run forward for all numbers that fall under the umbrella of the first segment until we get on that doesn't. \n",
    " - In other words, continuously throw out data that the current segment already covers. \n",
    "- Repeat "
   ]
  },
  {
   "cell_type": "code",
   "execution_count": 18,
   "metadata": {},
   "outputs": [
    {
     "name": "stdout",
     "output_type": "stream",
     "text": [
      "['2 - 5', '5 - 8', '10 - 13', '13 - 16', '55 - 58']\n"
     ]
    }
   ],
   "source": [
    "\"\"\"\n",
    "Greedy Algorithm Example: Coverage / Segment Problem\n",
    "---\n",
    "Author: Jeffrey Knight <jeffrey.knight[@]gmail.com\n",
    "Date: Sat May  2 03:14:14 WEST 2020\n",
    "Purpose: This is an example of a Greedy Algorithm. Given a series numbers, \n",
    "            find the minimum number of segments to 'cover' them in sets of [segmentLength].\n",
    "\"\"\"\n",
    "ages = [ 2, 2, 3, 4, 4, 5, 10, 13, 55, 55, 56 ] # Given a sorted input array\n",
    "segmentLength = 3                               #  and a segment of some length\n",
    "index = 0\n",
    "segments = []\n",
    "i = 0\n",
    "\n",
    "while i < len(ages):                            # Run through elements in the input array\n",
    "    left = ages[i]                              # Take the current element ..\n",
    "    right = left + segmentLength                # ... and calculate the end point of the segment from that point\n",
    "    segments.append(f\"{left} - {right}\")        # Add that segment to our list of segments\n",
    "    while i < len(ages) and ages[i] < right:    # Now skip all elements already covered by the current segment \n",
    "        i += 1                                  #    (they're already covered so no need to consider them)\n",
    "        \n",
    "print(segments)"
   ]
  },
  {
   "cell_type": "markdown",
   "metadata": {},
   "source": [
    "## Money Change Problem \n",
    "\n",
    "**Problem Statement** Implement a simple greedy algorithm for finding the *minimum* number of coins needed to change the input value (an integer) into coins with denominations 1, 5, and 10.  \n",
    "**My Solution** Start with the largest cons and work down. \n",
    "  "
   ]
  },
  {
   "cell_type": "code",
   "execution_count": 19,
   "metadata": {},
   "outputs": [
    {
     "name": "stdout",
     "output_type": "stream",
     "text": [
      "input: 1 / output: 1 / expected: 1\n",
      "input: 5 / output: 1 / expected: 1\n",
      "input: 6 / output: 2 / expected: 2\n",
      "input: 15 / output: 2 / expected: 2\n",
      "input: 16 / output: 3 / expected: 3\n",
      "input: 17 / output: 4 / expected: 4\n",
      "input: 18 / output: 5 / expected: 5\n",
      "input: 19 / output: 6 / expected: 6\n",
      "input: 20 / output: 2 / expected: 2\n",
      "input: 30 / output: 3 / expected: 3\n",
      "input: 40 / output: 4 / expected: 4\n",
      "input: 41 / output: 5 / expected: 5\n",
      "input: 42 / output: 6 / expected: 6\n",
      "input: 43 / output: 7 / expected: 7\n",
      "input: 44 / output: 8 / expected: 8\n",
      "input: 45 / output: 5 / expected: 5\n",
      "input: 46 / output: 6 / expected: 6\n",
      "input: 47 / output: 7 / expected: 7\n",
      "input: 48 / output: 8 / expected: 8\n",
      "input: 49 / output: 9 / expected: 9\n",
      "input: 50 / output: 5 / expected: 5\n"
     ]
    }
   ],
   "source": [
    "# Uses python3\n",
    "import sys\n",
    "import math\n",
    "\n",
    "\"\"\"\n",
    "Greedy Minimum Coins Change Problem\n",
    "---\n",
    "Author: Jeffrey Knight <jeffrey.knight[@]gmail.com\n",
    "Date: Tue Apr 28 01:40:30 WEST 2020\n",
    "Purpose: Given a number, return the minimum number of 1, 5, and 10 coins required to make the change\n",
    "\"\"\"\n",
    "def get_change(m):\n",
    "\n",
    "    tens = math.floor(m / 10)\n",
    "    tensRemainder = m % 10\n",
    "\n",
    "    fives = math.floor(tensRemainder / 5) \n",
    "    fivesRemainder = tensRemainder % 5\n",
    "\n",
    "    ones = fivesRemainder \n",
    "\n",
    "    return (tens + fives + ones)\n",
    "\n",
    "# tests: [input, expected output]\n",
    "testCases = (\n",
    "    [1,1], [5,1], [6,2],\n",
    "    [15,2],[16,3],[17,4],\n",
    "    [18,5],[19,6],[20,2],\n",
    "    [30,3],[40,4],[41,5],\n",
    "    [42,6],[43,7],[44,8],\n",
    "    [45,5],[46,6],[47,7],\n",
    "    [48,8],[49,9],[50,5]\n",
    ")\n",
    "\n",
    "for t in testCases: \n",
    "    input = t[0]\n",
    "    expected = t[1]\n",
    "    output = get_change(input)\n",
    "    assert output == expected\n",
    "    \n",
    "    print(f\"input: {input} / output: {output} / expected: {expected}\")\n",
    "\n"
   ]
  },
  {
   "cell_type": "markdown",
   "metadata": {},
   "source": [
    "##  Maximum Value of the Loot / Fractional Knapsack Problem\n",
    "\n",
    "This is a classic greedy algorithm problem that involves taking items by value, ending with a fractional value when we can't take a whole value.\n",
    "The idea is that you have a set of things with value and weight, and a constraint of a container that only holds so much weight. You want to fill your container (backpack, for example) with the maximum value.\n",
    "\n",
    "**My Solution**\n",
    "The trick is the insight that you first calculate item values per unit of weight.\n",
    "\n",
    "![greedy knapsack](greedy-knapsack.png)"
   ]
  },
  {
   "cell_type": "code",
   "execution_count": 20,
   "metadata": {},
   "outputs": [
    {
     "name": "stdout",
     "output_type": "stream",
     "text": [
      "180.0000000000\n"
     ]
    }
   ],
   "source": [
    "import sys\n",
    "\n",
    "\"\"\" \n",
    "Author: Jeffrey Knight <jeffrey.knight[@]gmail.com>\n",
    "Date: Mon Apr 27 17:21:05 PDT 2020\n",
    "Purpose: Given the weight capacity of a container and weights/values of items, return the maximum\n",
    "    possible value that can be stored in the container\n",
    "\"\"\"\n",
    "\n",
    "def get_optimal_value(capacity, weights, values):\n",
    "    \"\"\"\n",
    "    Assume: clean input\n",
    "    Need: 2 passes, one to order, one to take\n",
    "    1) order items by maximal value\n",
    "    2) from top down, take items until we hit capacity, then take a fractional amount of the last one\n",
    "\n",
    "    Notes: \n",
    "    - the \"last one\" where we hit capacity could be the first one. But we will always take something \n",
    "    - answer should return *at least* 4 decimal places\n",
    "    \"\"\"\n",
    "    # make a first pass through the list calculating values\n",
    "    loot = []\n",
    "    for i in range(len(weights)):\n",
    "        weight = weights[i]\n",
    "        value = values[i]\n",
    "        worth = value / weight \n",
    "        loot.append([worth, value, weight])\n",
    "\n",
    "    # order the list by most valuable loot\n",
    "    loot.sort(reverse=True) \n",
    "    \n",
    "    # start robbing loot, starting with the most valuable. When we run out of space\n",
    "    #   for a whole item, grab the last %\n",
    "    take = float(0)\n",
    "    currentWeight = 0\n",
    "    maxWeight = capacity\n",
    "    for item in loot:\n",
    "        itemValue = item[1]\n",
    "        itemWeight = item[2]\n",
    "\n",
    "        if currentWeight + itemWeight <= maxWeight:\n",
    "            take += itemValue\n",
    "            currentWeight += itemWeight \n",
    "        else:\n",
    "            spaceLeft = maxWeight - currentWeight\n",
    "            value = itemValue * (spaceLeft / itemWeight)\n",
    "            take += value\n",
    "            return take\n",
    "\n",
    "    return take\n",
    "\n",
    "# Define the capacity of the container (max weight it'll carry)\n",
    "capacity = 50\n",
    "# Define some items w/ values (this 2-list definition isn't great)\n",
    "values = [60, 100, 120]\n",
    "weights = [20, 50, 30]\n",
    "\"\"\"\n",
    "50\n",
    "60 20\n",
    "100 50\n",
    "30 120\n",
    "\"\"\"\n",
    "\n",
    "opt_value = get_optimal_value(capacity, weights, values)\n",
    "print(\"{:.10f}\".format(opt_value))\n"
   ]
  },
  {
   "cell_type": "markdown",
   "metadata": {},
   "source": [
    "## Maximum Advertisement Revenue / Dot Product"
   ]
  },
  {
   "cell_type": "markdown",
   "metadata": {},
   "source": [
    "**Problem Statement**: \"You have 𝑛 ads to place on a popular Internet page. For each ad, you know how much is the advertiser willing to pay for one click on this ad. You have set up 𝑛 slots on your page and estimated the expected number of clicks per day for each slot. Now, your goal is to distribute the ads among the slots to maximize the total revenue.\"  \n",
    "**My Solution**: Sort and done. Simple (not a great problem)\n"
   ]
  },
  {
   "cell_type": "code",
   "execution_count": 36,
   "metadata": {},
   "outputs": [
    {
     "name": "stdout",
     "output_type": "stream",
     "text": [
      "23 / 39\n",
      "-5 / -2\n",
      "1 / 1\n",
      "3 / 4\n"
     ]
    }
   ],
   "source": [
    "import sys\n",
    "\n",
    "\"\"\"\n",
    "Author: Jeffrey Knight <jeffrey.knight[@]gmail.com>\n",
    "Date: Sat May  9 20:27:06 WEST 2020\n",
    "Purpose: Demonstrates a greedy algorith for maximized pairs (?)\n",
    "\"\"\"\n",
    "def maximizeRevenue(a, b):\n",
    "    assert(len(a) == len(b))\n",
    "    a.sort()\n",
    "    b.sort()\n",
    "    \n",
    "    sum = 0\n",
    "    for i in range(len(a)):\n",
    "        a1 = a[i]\n",
    "        b1 = b[i]\n",
    "        print(f\"{a1} / {b1}\")\n",
    "        sum += a1 * b1\n",
    "    return sum\n",
    "     \n",
    "\"\"\"Sample input:\n",
    "1\n",
    "23\n",
    "39\n",
    "\"\"\"\n",
    "a = [23]\n",
    "b = [39]\n",
    "c = maximizeRevenue(a, b)\n",
    "assert(c == 897)\n",
    "\n",
    "a = [1, 3, -5]\n",
    "b = [-2, 4, 1]\n",
    "c = maximizeRevenue(a, b)\n",
    "assert(c == 23)"
   ]
  },
  {
   "cell_type": "markdown",
   "metadata": {},
   "source": [
    "## Programming Challenge 3-4: Collecting Signatures\n",
    "\n",
    "![](greedy-signatures.png)\n",
    "\n",
    "This bonus challenge problem features a tricky boundary condition. \n",
    "\n",
    "**My Solution**\n",
    "The idea I worked with was to track the \"largest-start\" and \"smallest-end\" of overlapping segments. This provideds us with a sort of ratcheting-in of boundardies where we iteratively rein in the segment size. When we hit a non-overlapping segment, we commit what we've been tracking. For reasons that are not clear in the wording of the problem, we commit the smallest-end (`minEnd`) only and not all points from `maxStart` to `minEnd`. The problem statement does not make it clear why they want specifically the max (`minEnd`) in the segment (why not `maxStart` ?)\n"
   ]
  },
  {
   "cell_type": "code",
   "execution_count": 1,
   "metadata": {},
   "outputs": [],
   "source": [
    "# Uses python3\n",
    "import sys\n",
    "from collections import namedtuple\n",
    "\n",
    "\"\"\"\n",
    "Author: Jeffrey Knight <jeffrey.knight[@]gmail.com>\n",
    "Date: Mon May 11 11:03:32 WEST 2020\n",
    "Purpose: Solves a strange variant of the segment coverage greedy algorithm\n",
    "Notes:\n",
    "- Usage of the 'segment' tuple was from edx's sample code - it'd be less verbose to simply \n",
    "    use an array of array like\n",
    "    [ [0,1], [1,2], ...etc ]\n",
    "\"\"\"\n",
    "\n",
    "Segment = namedtuple('Segment', 'start end')\n",
    "\n",
    "def optimal_points(segments):\n",
    "\n",
    "    points = []\n",
    "\n",
    "    # pre sort !\n",
    "    segments.sort()\n",
    "\n",
    "    maxStart = segments[0].start \n",
    "    minEnd = segments[1].end\n",
    "    \n",
    "    for i in range(len(segments)):\n",
    "        s = segments[i]\n",
    "        lastOne = i == len(segments) - 1\n",
    "\n",
    "        if(s.start > minEnd):\n",
    "            points.append(minEnd)\n",
    "            maxStart = s.start\n",
    "            minEnd = s.end\n",
    "            # TODO: annoying scenario where the very last segment is different but last iteration ...\n",
    "            #   how can we clean this up?\n",
    "            if(lastOne):\n",
    "                points.append(minEnd)\n",
    "        elif(lastOne):\n",
    "            maxStart = max(maxStart, s.start)\n",
    "            minEnd = min(minEnd, s.end)\n",
    "            points.append(minEnd)\n",
    "        else:\n",
    "            maxStart = max(maxStart, s.start)\n",
    "            minEnd = min(minEnd, s.end)\n",
    "    \n",
    "    return points\n",
    "\n",
    "  \n",
    "test1 = [ Segment(3, 6), Segment(1, 3), Segment(2, 5) ]\n",
    "output1 = optimal_points(test1)\n",
    "assert( len(output1) == 1)\n",
    "assert( output1 == [3])\n",
    "\n",
    "test2 = [ Segment(4, 7), Segment(1, 3), Segment(2, 5), Segment(5, 6) ]\n",
    "output2 = optimal_points(test2)\n",
    "assert( len(output2) == 2)\n",
    "assert( output2 == [3, 6])\n",
    "\n",
    "# This one tests an evil last-segment-different scenario\n",
    "test3 = [ Segment(41, 42), Segment(52, 52), Segment(63, 63), Segment(80, 82), Segment(78, 79), Segment(35, 35), \n",
    "Segment(22, 23), Segment(31, 32), Segment(44, 45), Segment(81, 82), Segment(36, 38), Segment(10, 12), \n",
    "Segment(1, 1), Segment(23, 23), Segment(32, 33), Segment(87, 88), Segment(55, 56), Segment(69, 71), \n",
    "Segment(89, 91), Segment(93, 93), Segment(38, 40), Segment(33, 34), Segment(14, 16), Segment(57, 59), \n",
    "Segment(70, 72), Segment(36, 36), Segment(29, 29), Segment(73, 74), Segment(66, 68), Segment(36, 38), \n",
    "Segment(1, 3), Segment(49, 50), Segment(68, 70), Segment(26, 28), Segment(30, 30), Segment(1, 2), \n",
    "Segment(64, 65), Segment(57, 58), Segment(58, 58), Segment(51, 53), Segment(41, 41), Segment(17, 18), \n",
    "Segment(45, 46), Segment(4, 4), Segment(0, 1), Segment(65, 67), Segment(92, 93), Segment(84, 85), \n",
    "Segment(75, 77), Segment(39, 41), Segment(15, 15), Segment(29, 31), Segment(83, 84), Segment(12, 14), \n",
    "Segment(91, 93), Segment(83, 84), Segment(81, 81), Segment(3, 4), Segment(66, 67), Segment(8, 8), \n",
    "Segment(17, 19), Segment(86, 87), Segment(44, 44), Segment(34, 34), Segment(74, 74), Segment(94, 95), \n",
    "Segment(79, 81), Segment(29, 29), Segment(60, 61), Segment(58, 59), Segment(62, 62), Segment(54, 56), \n",
    "Segment(58, 58), Segment(79, 79), Segment(89, 91), Segment(40, 42), Segment(2, 4), Segment(12, 14), \n",
    "Segment(5, 5), Segment(28, 28), Segment(35, 36), Segment(7, 8), Segment(82, 84), Segment(49, 51), \n",
    "Segment(2, 4), Segment(57, 59), Segment(25, 27), Segment(52, 53), Segment(48, 49), Segment(9, 9), \n",
    "Segment(10, 10), Segment(78, 78), Segment(26, 26), Segment(83, 84), Segment(22, 24), Segment(86, 87),\n",
    "Segment(52, 54), Segment(49, 51), Segment(63, 64), Segment(54, 54) ]\n",
    "output3 = optimal_points(test3)\n",
    "assert (len(output3) == 43)\n",
    "assert (output3 == [1,4,5,8,9,10,14,15,18,23,26,28,29,30,32,34,35,36,40,41,44,46,49,\n",
    "52,54,56,58,61,62,63,65,67,70,74,77,78,79,81,84,87,91,93,95])"
   ]
  },
  {
   "cell_type": "markdown",
   "metadata": {},
   "source": [
    "## Maximum Number of Prizes\n",
    "\n",
    "_TODO_\n"
   ]
  },
  {
   "cell_type": "markdown",
   "metadata": {},
   "source": [
    "## Maximum Salary\n",
    "\n",
    "_TODO_"
   ]
  }
 ],
 "metadata": {
  "kernelspec": {
   "display_name": "Python 3",
   "language": "python",
   "name": "python3"
  },
  "language_info": {
   "codemirror_mode": {
    "name": "ipython",
    "version": 3
   },
   "file_extension": ".py",
   "mimetype": "text/x-python",
   "name": "python",
   "nbconvert_exporter": "python",
   "pygments_lexer": "ipython3",
   "version": "3.8.2"
  }
 },
 "nbformat": 4,
 "nbformat_minor": 4
}
