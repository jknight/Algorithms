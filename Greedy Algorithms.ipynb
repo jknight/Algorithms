{
 "cells": [
  {
   "cell_type": "markdown",
   "metadata": {},
   "source": [
    "# Greedy Algorithms\n",
    "\n",
    "The following samples demonstrate implementations of greedy algorithms.\n",
    "\n",
    "\n",
    "## Getting Change\n",
    "\n",
    "This is a simple greedy algorithm for finding the *minimum* number of coins needed to change the input value (an integer) into coins with denominations 1, 5, and 10.    \n",
    "\n",
    "Samples:\n",
    "<pre>\n",
    "input, output\n",
    "-----\n",
    "1, 1\n",
    "5, 1\n",
    "6, 2\n",
    "15, 2 \n",
    "16, 3\n",
    "17, 4\n",
    "18, 5\n",
    "19, 6\n",
    "20, 2\n",
    "30, 3\n",
    "40, 4\n",
    "41, 5\n",
    "42, 6\n",
    "43, 7\n",
    "44, 8\n",
    "45, 5\n",
    "46, 6\n",
    "47, 7\n",
    "48, 8\n",
    "49, 9\n",
    "50, 5\n",
    "</pre>"
   ]
  },
  {
   "cell_type": "code",
   "execution_count": 5,
   "metadata": {},
   "outputs": [
    {
     "name": "stdout",
     "output_type": "stream",
     "text": [
      "5\n"
     ]
    }
   ],
   "source": [
    "# Uses python3\n",
    "import sys\n",
    "import math\n",
    "\n",
    "\"\"\"\n",
    "Given a number, return the minimum number of 1, 5, and 10 coins required to make the change\n",
    "\"\"\"\n",
    "def get_change(m):\n",
    "\n",
    "    tens = math.floor(m / 10)\n",
    "    tensRemainder = m % 10\n",
    "\n",
    "    fives = math.floor(tensRemainder / 5) \n",
    "    fivesRemainder = tensRemainder % 5\n",
    "\n",
    "    ones = fivesRemainder \n",
    "\n",
    "    return (tens + fives + ones)\n",
    "\n",
    "print(get_change(41))"
   ]
  },
  {
   "cell_type": "markdown",
   "metadata": {},
   "source": [
    "## Maximum Value of Loot Problem\n",
    "\n",
    "This is a classic greedy algorithm problem that involves ordering items by value.\n",
    "The idea is that you have a set of things with value and weight, and a constraint of a container that only holds so much weight. You want to fill your container (backpack, for example) with the maximum value.\n",
    "\n",
    "This is pretty straight forward - the only trick is the insight that you need to first calculate item value per unit of weight.\n"
   ]
  },
  {
   "cell_type": "code",
   "execution_count": 2,
   "metadata": {},
   "outputs": [
    {
     "name": "stdout",
     "output_type": "stream",
     "text": [
      "180.0000000000\n"
     ]
    }
   ],
   "source": [
    "import sys\n",
    "\n",
    "\"\"\" \n",
    "Author: Jeffrey Knight <jeffrey.knight@gmail.com>\n",
    "Date: Mon Apr 27 17:21:05 PDT 2020\n",
    "\"\"\"\n",
    "\n",
    "def get_optimal_value(capacity, weights, values):\n",
    "    \"\"\"\n",
    "    Assume: clean input\n",
    "    Need: 2 passes, one to order, one to take\n",
    "    1) order items by maximal value\n",
    "    2) from top down, take items until we hit capacity, then take a fractional amount of the last one\n",
    "\n",
    "    Notes: \n",
    "    - the \"last one\" where we hit capacity could be the first one. But we will always take something \n",
    "    - answer should return *at least* 4 decimal places\n",
    "    \"\"\"\n",
    "    # make a first pass through the list calculating values\n",
    "    loot = []\n",
    "    for i in range(len(weights)):\n",
    "        weight = weights[i]\n",
    "        value = values[i]\n",
    "        worth = value / weight \n",
    "        loot.append([worth, value, weight])\n",
    "\n",
    "    # order the list by most valuable loot\n",
    "    loot.sort(reverse=True) \n",
    "    \n",
    "    # start robbing loot, starting with the most valuable. When we run out of space\n",
    "    #   for a whole item, grab the last %\n",
    "    take = float(0)\n",
    "    currentWeight = 0\n",
    "    maxWeight = capacity\n",
    "    for item in loot:\n",
    "        itemValue = item[1]\n",
    "        itemWeight = item[2]\n",
    "\n",
    "        if currentWeight + itemWeight <= maxWeight:\n",
    "            take += itemValue\n",
    "            currentWeight += itemWeight \n",
    "        else:\n",
    "            spaceLeft = maxWeight - currentWeight\n",
    "            value = itemValue * (spaceLeft / itemWeight)\n",
    "            take += value\n",
    "            return take\n",
    "\n",
    "    return take\n",
    "\n",
    "# Define the capacity of the container (max weight it'll carry)\n",
    "capacity = 50\n",
    "# Define some items w/ values (this 2-list definition isn't great)\n",
    "values = [60, 100, 120]\n",
    "weights = [20, 50, 30]\n",
    "\"\"\"\n",
    "50\n",
    "60 20\n",
    "100 50\n",
    "30 120\n",
    "\"\"\"\n",
    "\n",
    "opt_value = get_optimal_value(capacity, weights, values)\n",
    "print(\"{:.10f}\".format(opt_value))\n"
   ]
  },
  {
   "cell_type": "code",
   "execution_count": null,
   "metadata": {},
   "outputs": [],
   "source": []
  }
 ],
 "metadata": {
  "kernelspec": {
   "display_name": "Python 3",
   "language": "python",
   "name": "python3"
  },
  "language_info": {
   "codemirror_mode": {
    "name": "ipython",
    "version": 3
   },
   "file_extension": ".py",
   "mimetype": "text/x-python",
   "name": "python",
   "nbconvert_exporter": "python",
   "pygments_lexer": "ipython3",
   "version": "3.8.2"
  }
 },
 "nbformat": 4,
 "nbformat_minor": 4
}
